{
  "nbformat": 4,
  "nbformat_minor": 0,
  "metadata": {
    "colab": {
      "provenance": [],
      "include_colab_link": true
    },
    "kernelspec": {
      "name": "python3",
      "display_name": "Python 3"
    },
    "language_info": {
      "name": "python"
    },
    "accelerator": "GPU",
    "gpuClass": "standard"
  },
  "cells": [
    {
      "cell_type": "markdown",
      "metadata": {
        "id": "view-in-github",
        "colab_type": "text"
      },
      "source": [
        "<a href=\"https://colab.research.google.com/github/frankwongWO/whisper-fastapi/blob/master/faster_whisper_fastapi.ipynb\" target=\"_parent\"><img src=\"https://colab.research.google.com/assets/colab-badge.svg\" alt=\"Open In Colab\"/></a>"
      ]
    },
    {
      "cell_type": "code",
      "source": [
        "!nvidia-smi "
      ],
      "metadata": {
        "id": "XxzSiPacu2ts"
      },
      "execution_count": null,
      "outputs": []
    },
    {
      "cell_type": "code",
      "source": [
        "!nvidia-smi -L"
      ],
      "metadata": {
        "id": "TgZYPr9BuEQp"
      },
      "execution_count": null,
      "outputs": []
    },
    {
      "cell_type": "code",
      "source": [
        "import tensorflow as tf\n",
        "tf.test.gpu_device_name()"
      ],
      "metadata": {
        "id": "1sKn5E3tuW_Q"
      },
      "execution_count": null,
      "outputs": []
    },
    {
      "cell_type": "code",
      "execution_count": null,
      "metadata": {
        "id": "sL-FDmL70wyp"
      },
      "outputs": [],
      "source": [
        "!pip install nest-asyncio pyngrok"
      ]
    },
    {
      "cell_type": "code",
      "source": [
        "!git clone -b master https://github.com/frankwongWO/whisper-fastapi.git"
      ],
      "metadata": {
        "id": "fOJGsLk20xjY"
      },
      "execution_count": null,
      "outputs": []
    },
    {
      "cell_type": "code",
      "source": [
        "!pip install -r /content/whisper-fastapi/requirements.txt\n",
        "%cd /content/whisper-fastapi"
      ],
      "metadata": {
        "id": "jqVqsvmf9ZMx"
      },
      "execution_count": null,
      "outputs": []
    },
    {
      "cell_type": "code",
      "source": [
        "!pip list"
      ],
      "metadata": {
        "id": "UXxtttmOeDkO"
      },
      "execution_count": null,
      "outputs": []
    },
    {
      "cell_type": "markdown",
      "source": [
        "openai/whisper-large-v2 modle"
      ],
      "metadata": {
        "id": "25F0oJ_Qpp9-"
      }
    },
    {
      "cell_type": "code",
      "source": [
        "!pip install \"faster-whisper @ git+https://github.com/guillaumekln/faster-whisper@master#faster-whisper[conversion]\"\n",
        "\n",
        "!ct2-transformers-converter --model openai/whisper-large-v2 --output_dir whisper-large-v2-ct2 \\\n",
        "    --copy_files tokenizer.json --quantization float16"
      ],
      "metadata": {
        "id": "yQhf_ZrXgvOD"
      },
      "execution_count": null,
      "outputs": []
    },
    {
      "cell_type": "code",
      "source": [
        "!ct2-transformers-converter --model thomas0104/whisper-large-v2-zh-TW-augmented --output_dir whisper-large-v2-zh-TW-augmented \\\n",
        "    --copy_files tokenizer.json --quantization float16"
      ],
      "metadata": {
        "id": "wcf3YSbPhFMR"
      },
      "execution_count": null,
      "outputs": []
    },
    {
      "cell_type": "code",
      "source": [
        "import nest_asyncio\n",
        "import uvicorn\n",
        "from pyngrok import ngrok\n",
        "\n",
        "# Enable nested asyncio event loops\n",
        "nest_asyncio.apply()\n",
        "\n",
        "ngrok_tunnel = ngrok.connect(8123)\n",
        "print('Public URL:', ngrok_tunnel.public_url)\n",
        "nest_asyncio.apply()\n",
        "uvicorn.run(\"run:app\", port=8123)\n"
      ],
      "metadata": {
        "id": "N4dm43P-9mrb"
      },
      "execution_count": null,
      "outputs": []
    }
  ]
}